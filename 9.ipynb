{
 "cells": [
  {
   "cell_type": "code",
   "execution_count": null,
   "id": "30e54d80",
   "metadata": {},
   "outputs": [],
   "source": [
    "# Írj programot, amely megjeleníti az 'a.txt' forrásfájl tartalmát!\n",
    "#•\tElőször karakterenként olvassa be a fájlt\n",
    "#•\tMásodszor olvassa be a fájlt soronként\n",
    "#•\tHarmadszor, olvassa be egyszerre az egész fájlt"
   ]
  },
  {
   "cell_type": "code",
   "execution_count": 1,
   "id": "cfd12832",
   "metadata": {},
   "outputs": [
    {
     "name": "stdout",
     "output_type": "stream",
     "text": [
      "﻿ P y t h o n   t o o   s u p p o r t s   f i l e   h a n d l i n g   a n d   a l l o w s   u s e r s   t o   h a n d l e   f i l e s   i . e . ,   \n",
      " t o   r e a d   a n d   w r i t e   f i l e s ,   a l o n g   w i t h   m a n y   o t h e r   f i l e   h a n d l i n g   o p t i o n s ,   t o   \n",
      " o p e r a t e   o n   f i l e s .   T h e   c o n c e p t   o f   f i l e   h a n d l i n g   h a s   s t r e t c h e d   o v e r   v a r i o u s   \n",
      " o t h e r   l a n g u a g e s ,   b u t   t h e   i m p l e m e n t a t i o n   i s   e i t h e r   c o m p l i c a t e d   o r   l e n g t h y ,   \n",
      " b u t   l i k e   o t h e r   c o n c e p t s   o f   P y t h o n ,   t h i s   c o n c e p t   h e r e   i s   a l s o   e a s y   a n d   \n",
      " s h o r t .   P y t h o n   t r e a t s   f i l e s   d i f f e r e n t l y   a s   t e x t   o r   b i n a r y   a n d   t h i s   i s   \n",
      " i m p o r t a n t .   E a c h   l i n e   o f   c o d e   i n c l u d e s   a   s e q u e n c e   o f   c h a r a c t e r s   a n d   t h e y   \n",
      " f o r m   a   t e x t   f i l e .   E a c h   l i n e   o f   a   f i l e   i s   t e r m i n a t e d   w i t h   a   s p e c i a l   \n",
      " c h a r a c t e r ,   c a l l e d   t h e   E O L   o r   E n d   o f   L i n e   c h a r a c t e r s   l i k e   c o m m a   { , }   o r   \n",
      " n e w l i n e   c h a r a c t e r .   I t   e n d s   t h e   c u r r e n t   l i n e   a n d   t e l l s   t h e   i n t e r p r e t e r   a   \n",
      " n e w   o n e   h a s   b e g u n .   L e t ’ s   s t a r t   w i t h   t h e   r e a d i n g   a n d   w r i t i n g   f i l e s . \n",
      " "
     ]
    }
   ],
   "source": [
    "#karakterenként olvasunk\n",
    "fname=\"a.txt\"\n",
    "f=open(fname, \"r\", encoding=\"UTF-8\")\n",
    "s=f.read()\n",
    "for c in s:\n",
    "    print(c, end=' ')\n",
    "f.close()"
   ]
  },
  {
   "cell_type": "code",
   "execution_count": 5,
   "id": "efeb934b",
   "metadata": {},
   "outputs": [
    {
     "name": "stdout",
     "output_type": "stream",
     "text": [
      "﻿Python too supports file handling and allows users to handle files i.e., \n",
      "to read and write files, along with many other file handling options, to \n",
      "operate on files. The concept of file handling has stretched over various \n",
      "other languages, but the implementation is either complicated or lengthy, \n",
      "but like other concepts of Python, this concept here is also easy and \n",
      "short. Python treats files differently as text or binary and this is \n",
      "important. Each line of code includes a sequence of characters and they \n",
      "form a text file. Each line of a file is terminated with a special \n",
      "character, called the EOL or End of Line characters like comma {,} or \n",
      "newline character. It ends the current line and tells the interpreter a \n",
      "new one has begun. Let’s start with the reading and writing files.\n"
     ]
    }
   ],
   "source": [
    "#soronként olvasunk\n",
    "f=open(fname, \"r\", encoding=\"utf-8\")\n",
    "s=f.readlines()\n",
    "for c in s:\n",
    "    print(c, end='')\n",
    "f.close()"
   ]
  },
  {
   "cell_type": "code",
   "execution_count": 7,
   "id": "61243441",
   "metadata": {},
   "outputs": [
    {
     "name": "stdout",
     "output_type": "stream",
     "text": [
      "﻿Python too supports file handling and allows users to handle files i.e., \n",
      "to read and write files, along with many other file handling options, to \n",
      "operate on files. The concept of file handling has stretched over various \n",
      "other languages, but the implementation is either complicated or lengthy, \n",
      "but like other concepts of Python, this concept here is also easy and \n",
      "short. Python treats files differently as text or binary and this is \n",
      "important. Each line of code includes a sequence of characters and they \n",
      "form a text file. Each line of a file is terminated with a special \n",
      "character, called the EOL or End of Line characters like comma {,} or \n",
      "newline character. It ends the current line and tells the interpreter a \n",
      "new one has begun. Let’s start with the reading and writing files.\n",
      "\n"
     ]
    }
   ],
   "source": [
    "#egyszerre beolvassuk a fájlt\n",
    "f=open(fname, \"r\", encoding=\"UTF-8\")\n",
    "s=f.read()\n",
    "print(s)\n",
    "f.close()"
   ]
  },
  {
   "cell_type": "code",
   "execution_count": null,
   "id": "d37631dc",
   "metadata": {},
   "outputs": [],
   "source": [
    "#2.\tfeladat: Írjon programot, amely statisztikát készít a \"b.txt\" forrásfájl tartalmáról az alábbiak szerint:\n",
    "#•\tA sorok száma (a len függvény helyett használjuk a számláló algoritmust).\n",
    "#•\tA fájlban lévő szavak száma (oldja meg split és len függvényekkel és anélkül)\n",
    "#•\tAz egyes magánhangzók száma"
   ]
  },
  {
   "cell_type": "code",
   "execution_count": 9,
   "id": "4e0af966",
   "metadata": {},
   "outputs": [
    {
     "name": "stdout",
     "output_type": "stream",
     "text": [
      "10\n"
     ]
    }
   ],
   "source": [
    "#Sorok száma\n",
    "fname=\"b.txt\"\n",
    "f=open(fname, \"r\", encoding=\"utf-8\")\n",
    "s=f.readlines()\n",
    "db=0\n",
    "for c in s:\n",
    "    db=db+1\n",
    "print(db)\n",
    "f.close()"
   ]
  },
  {
   "cell_type": "code",
   "execution_count": 13,
   "id": "88e4601f",
   "metadata": {},
   "outputs": [
    {
     "name": "stdout",
     "output_type": "stream",
     "text": [
      "229\n"
     ]
    }
   ],
   "source": [
    "#Szavak száma\n",
    "fname=\"b.txt\"\n",
    "f=open(fname, \"r\", encoding=\"utf-8\")\n",
    "mondatok=f.readlines()\n",
    "db=0\n",
    "for mondat in mondatok:\n",
    "    szavak=mondat.split(\" \") #space az alapértelmezett, nem szükséges megadni\n",
    "    db=db+len(szavak)\n",
    "    \n",
    "print(db)\n",
    "f.close()"
   ]
  },
  {
   "cell_type": "code",
   "execution_count": 11,
   "id": "49ef8f59",
   "metadata": {},
   "outputs": [
    {
     "name": "stdout",
     "output_type": "stream",
     "text": [
      "229\n"
     ]
    }
   ],
   "source": [
    "#a len függvény használata nélkül\n",
    "fname=\"b.txt\"\n",
    "f=open(fname, \"r\", encoding=\"utf-8\")\n",
    "mondatok=f.readlines()\n",
    "db=0\n",
    "for mondat in mondatok:\n",
    "    szavak=mondat.split(\" \")\n",
    "    for j in szavak:\n",
    "        db=db+1\n",
    "    \n",
    "print(db)\n",
    "f.close()"
   ]
  },
  {
   "cell_type": "code",
   "execution_count": 12,
   "id": "7b948b3f",
   "metadata": {},
   "outputs": [
    {
     "name": "stdout",
     "output_type": "stream",
     "text": [
      "453\n"
     ]
    }
   ],
   "source": [
    "#magánhangzók száma\n",
    "mgh=['A', 'E', 'I', 'O', 'U']\n",
    "fname=\"b.txt\"\n",
    "f=open(fname, \"r\", encoding=\"UTF-8\")\n",
    "s=f.read()\n",
    "db=0\n",
    "for c in s:\n",
    "    if c.upper() in mgh:\n",
    "        db=db+1\n",
    "print (db)\n",
    "f.close()"
   ]
  },
  {
   "cell_type": "code",
   "execution_count": null,
   "id": "aafdbebd",
   "metadata": {},
   "outputs": [],
   "source": [
    "#3. A 'c.csv' forrásfájl egy struktúrát tartalmaz (BookID, BookTitle, BookAuthor, BookPrice), \n",
    "# az elválasztó karakter pontosvessző. \n",
    "#Írjunk egy függvényt, amely a BookAuthor szerint rendezett sorokat adja vissza! \n",
    "#Minden megtanult rendezési algoritmust használhatsz.  \n",
    "#Ne használd a beépített sorted függvényt!\n",
    "#Ezzel a függvénnyel írja ki az eredményt a 'sorted_c.txt' fájlba. \n",
    "#Ne használjon külső modult"
   ]
  },
  {
   "cell_type": "code",
   "execution_count": 30,
   "id": "55ecf865",
   "metadata": {
    "scrolled": false
   },
   "outputs": [],
   "source": [
    "def szerzo_rendezes(fname):\n",
    "    f=open(fname, \"r\", encoding=\"UTF-8\")\n",
    "    data=[]\n",
    "    f.readline()\n",
    "    mondatok=f.readlines()\n",
    "    for mondat in mondatok:\n",
    "        szavak=mondat.strip().split(\";\")\n",
    "        data.append(szavak)\n",
    "    f.close()\n",
    "    \n",
    "    #rendezes\n",
    "    n=len(data)\n",
    "    for i in range(n-1):\n",
    "        for j in range(i+1, n):\n",
    "            if data[i][2]>data[j][2]:\n",
    "                data[i], data[j]=data[j], data[i]\n",
    "    return data\n",
    "\n",
    "def kiiras(rendezett_lista):\n",
    "    g= open(\"sorted_c.txt\", \"w\", encoding=\"UTF-8\")\n",
    "    for konyv in rendezett_lista:\n",
    "        for elem in konyv:\n",
    "            elem=elem+\";\"\n",
    "            g.write(elem)\n",
    "        g.write('\\n')\n",
    "    g.close()\n",
    "\n",
    "r_lista=szerzo_rendezes(\"c.csv\")\n",
    "kiiras(r_lista)"
   ]
  },
  {
   "cell_type": "code",
   "execution_count": null,
   "id": "8d2fdd2a",
   "metadata": {},
   "outputs": [],
   "source": [
    "#4. A 'c.csv' forrásfájl egy struktúrát tartalmaz (BookID, BookTitle, BookAuthor, BookPrice), az elválasztó karakter pontosvessző. \n",
    "#Írjunk függvényt, amely visszaadja a BookAuthor szerint rendezett sorokat! \n",
    "#•\tBármilyen megtanult rendezési algoritmust használhatsz.\n",
    "#•\tNe használja a beépített rendezési függvényt\n",
    "#•\tEzzel a függvénnyel írja ki az eredményt a 'sorted_c.txt' fájlba.\n",
    "#•\tNe használjon külső modult"
   ]
  },
  {
   "cell_type": "code",
   "execution_count": 40,
   "id": "4f17c386",
   "metadata": {},
   "outputs": [
    {
     "name": "stdout",
     "output_type": "stream",
     "text": [
      "46.660000000000004\n"
     ]
    }
   ],
   "source": [
    "#B-vel kezdődő szerzői névvel rendelkező könyvek listája\n",
    "#használjuk a kivételkezelést\n",
    "def beolvasas_listaba(fname):\n",
    "    f=open(fname, \"r\", encoding=\"UTF-8\")\n",
    "    data=[]\n",
    "    f.readline()\n",
    "    mondatok=f.readlines()\n",
    "    for mondat in mondatok:\n",
    "        szavak=mondat.strip().split(\";\")\n",
    "        data.append(szavak)\n",
    "    f.close()\n",
    "    return data\n",
    "\n",
    "    \n",
    "def bkiir(data):\n",
    "    for konyv in data:\n",
    "        if konyv[2][0]=='B':\n",
    "            print(konyv)\n",
    "            \n",
    "def min_max(data):\n",
    "    minar=float(data[0][3])\n",
    "    maxar=float(data[0][3])\n",
    "    for konyv in data:\n",
    "        ar=float(konyv[3])\n",
    "        if ar<minar:\n",
    "            minar=ar\n",
    "        if ar>maxar:\n",
    "            maxar=ar\n",
    "    print(maxar-minar)\n",
    "\n",
    "        \n",
    "lista=beolvasas_listaba(\"c.csv\")    \n",
    "#bkiir(lista)\n",
    "min_max(lista)"
   ]
  },
  {
   "cell_type": "code",
   "execution_count": null,
   "id": "7f0c6bc8",
   "metadata": {},
   "outputs": [],
   "source": [
    "#Megjeleníti a képernyőn, hogy az egyes szerzőknek hány könyve van.\n"
   ]
  },
  {
   "cell_type": "code",
   "execution_count": 38,
   "id": "c09888da",
   "metadata": {},
   "outputs": [
    {
     "ename": "SyntaxError",
     "evalue": "invalid syntax. Maybe you meant '==' or ':=' instead of '='? (3756130287.py, line 5)",
     "output_type": "error",
     "traceback": [
      "\u001b[1;36m  Cell \u001b[1;32mIn[38], line 5\u001b[1;36m\u001b[0m\n\u001b[1;33m    if szam=1:\u001b[0m\n\u001b[1;37m       ^\u001b[0m\n\u001b[1;31mSyntaxError\u001b[0m\u001b[1;31m:\u001b[0m invalid syntax. Maybe you meant '==' or ':=' instead of '='?\n"
     ]
    }
   ],
   "source": [
    "#Mennyi a különbség a legdrágább és a legolcsóbb könyv ára között?\n"
   ]
  },
  {
   "cell_type": "code",
   "execution_count": null,
   "id": "3c7dd07f",
   "metadata": {},
   "outputs": [],
   "source": [
    "#5. Írjon eljárásokat/függvényeket a következő fájlműveletek végrehajtására a paraméterként kapott szöveges fájlon: \n",
    "#létrehozás, átnevezés, törlés, csatolás. \n",
    "#használjunk kivételkezelést minden esetben \n",
    "#mentsd őket egy új modulba"
   ]
  },
  {
   "cell_type": "code",
   "execution_count": null,
   "id": "dfd90f07",
   "metadata": {},
   "outputs": [],
   "source": []
  },
  {
   "cell_type": "code",
   "execution_count": null,
   "id": "de19b043",
   "metadata": {},
   "outputs": [],
   "source": [
    "#Homework The source file ‘c.csv’ has a structure (BookID, BookTitle, BookAuthor, BookPrice).  \n",
    "#Write a function which returns the average price of the books for the author received as a parameter! \n"
   ]
  },
  {
   "cell_type": "code",
   "execution_count": null,
   "id": "67be72ea",
   "metadata": {},
   "outputs": [],
   "source": []
  },
  {
   "cell_type": "code",
   "execution_count": null,
   "id": "ef91b91c",
   "metadata": {},
   "outputs": [],
   "source": []
  }
 ],
 "metadata": {
  "kernelspec": {
   "display_name": "Python 3 (ipykernel)",
   "language": "python",
   "name": "python3"
  },
  "language_info": {
   "codemirror_mode": {
    "name": "ipython",
    "version": 3
   },
   "file_extension": ".py",
   "mimetype": "text/x-python",
   "name": "python",
   "nbconvert_exporter": "python",
   "pygments_lexer": "ipython3",
   "version": "3.10.9"
  }
 },
 "nbformat": 4,
 "nbformat_minor": 5
}
